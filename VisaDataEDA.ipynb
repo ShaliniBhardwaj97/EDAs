{
 "cells": [
  {
   "cell_type": "markdown",
   "id": "d855f0cf",
   "metadata": {},
   "source": [
    "# Importing Neccessary Libraries for performing the EDA and Feature Engineering"
   ]
  },
  {
   "cell_type": "code",
   "execution_count": 240,
   "id": "fff8835e",
   "metadata": {},
   "outputs": [],
   "source": [
    "import pandas as pd\n",
    "import numpy as np\n",
    "import seaborn as sns\n",
    "import matplotlib.pyplot as plt\n",
    "%matplotlib inline\n",
    "import warnings\n",
    "warnings.filterwarnings('ignore')"
   ]
  },
  {
   "cell_type": "markdown",
   "id": "3dc2b74f",
   "metadata": {},
   "source": [
    "# Load the Data to jupyter notebook"
   ]
  },
  {
   "cell_type": "code",
   "execution_count": 171,
   "id": "03910bce",
   "metadata": {},
   "outputs": [],
   "source": [
    "data = pd.read_csv(r\"D:\\Shalini Work\\Datasets\\Dataset\\data5\\Visadataset.csv\")"
   ]
  },
  {
   "cell_type": "markdown",
   "id": "5fcfdad1",
   "metadata": {},
   "source": [
    "# Fetching 5 records from top"
   ]
  },
  {
   "cell_type": "code",
   "execution_count": 172,
   "id": "8455c298",
   "metadata": {},
   "outputs": [
    {
     "data": {
      "text/html": [
       "<div>\n",
       "<style scoped>\n",
       "    .dataframe tbody tr th:only-of-type {\n",
       "        vertical-align: middle;\n",
       "    }\n",
       "\n",
       "    .dataframe tbody tr th {\n",
       "        vertical-align: top;\n",
       "    }\n",
       "\n",
       "    .dataframe thead th {\n",
       "        text-align: right;\n",
       "    }\n",
       "</style>\n",
       "<table border=\"1\" class=\"dataframe\">\n",
       "  <thead>\n",
       "    <tr style=\"text-align: right;\">\n",
       "      <th></th>\n",
       "      <th>case_id</th>\n",
       "      <th>continent</th>\n",
       "      <th>education_of_employee</th>\n",
       "      <th>has_job_experience</th>\n",
       "      <th>requires_job_training</th>\n",
       "      <th>no_of_employees</th>\n",
       "      <th>yr_of_estab</th>\n",
       "      <th>region_of_employment</th>\n",
       "      <th>prevailing_wage</th>\n",
       "      <th>unit_of_wage</th>\n",
       "      <th>full_time_position</th>\n",
       "      <th>case_status</th>\n",
       "    </tr>\n",
       "  </thead>\n",
       "  <tbody>\n",
       "    <tr>\n",
       "      <th>0</th>\n",
       "      <td>EZYV01</td>\n",
       "      <td>Asia</td>\n",
       "      <td>High School</td>\n",
       "      <td>N</td>\n",
       "      <td>N</td>\n",
       "      <td>14513</td>\n",
       "      <td>2007</td>\n",
       "      <td>West</td>\n",
       "      <td>592.2029</td>\n",
       "      <td>Hour</td>\n",
       "      <td>Y</td>\n",
       "      <td>Denied</td>\n",
       "    </tr>\n",
       "    <tr>\n",
       "      <th>1</th>\n",
       "      <td>EZYV02</td>\n",
       "      <td>Asia</td>\n",
       "      <td>Master's</td>\n",
       "      <td>Y</td>\n",
       "      <td>N</td>\n",
       "      <td>2412</td>\n",
       "      <td>2002</td>\n",
       "      <td>Northeast</td>\n",
       "      <td>83425.6500</td>\n",
       "      <td>Year</td>\n",
       "      <td>Y</td>\n",
       "      <td>Certified</td>\n",
       "    </tr>\n",
       "    <tr>\n",
       "      <th>2</th>\n",
       "      <td>EZYV03</td>\n",
       "      <td>Asia</td>\n",
       "      <td>Bachelor's</td>\n",
       "      <td>N</td>\n",
       "      <td>Y</td>\n",
       "      <td>44444</td>\n",
       "      <td>2008</td>\n",
       "      <td>West</td>\n",
       "      <td>122996.8600</td>\n",
       "      <td>Year</td>\n",
       "      <td>Y</td>\n",
       "      <td>Denied</td>\n",
       "    </tr>\n",
       "    <tr>\n",
       "      <th>3</th>\n",
       "      <td>EZYV04</td>\n",
       "      <td>Asia</td>\n",
       "      <td>Bachelor's</td>\n",
       "      <td>N</td>\n",
       "      <td>N</td>\n",
       "      <td>98</td>\n",
       "      <td>1897</td>\n",
       "      <td>West</td>\n",
       "      <td>83434.0300</td>\n",
       "      <td>Year</td>\n",
       "      <td>Y</td>\n",
       "      <td>Denied</td>\n",
       "    </tr>\n",
       "    <tr>\n",
       "      <th>4</th>\n",
       "      <td>EZYV05</td>\n",
       "      <td>Africa</td>\n",
       "      <td>Master's</td>\n",
       "      <td>Y</td>\n",
       "      <td>N</td>\n",
       "      <td>1082</td>\n",
       "      <td>2005</td>\n",
       "      <td>South</td>\n",
       "      <td>149907.3900</td>\n",
       "      <td>Year</td>\n",
       "      <td>Y</td>\n",
       "      <td>Certified</td>\n",
       "    </tr>\n",
       "  </tbody>\n",
       "</table>\n",
       "</div>"
      ],
      "text/plain": [
       "  case_id continent education_of_employee has_job_experience  \\\n",
       "0  EZYV01      Asia           High School                  N   \n",
       "1  EZYV02      Asia              Master's                  Y   \n",
       "2  EZYV03      Asia            Bachelor's                  N   \n",
       "3  EZYV04      Asia            Bachelor's                  N   \n",
       "4  EZYV05    Africa              Master's                  Y   \n",
       "\n",
       "  requires_job_training  no_of_employees  yr_of_estab region_of_employment  \\\n",
       "0                     N            14513         2007                 West   \n",
       "1                     N             2412         2002            Northeast   \n",
       "2                     Y            44444         2008                 West   \n",
       "3                     N               98         1897                 West   \n",
       "4                     N             1082         2005                South   \n",
       "\n",
       "   prevailing_wage unit_of_wage full_time_position case_status  \n",
       "0         592.2029         Hour                  Y      Denied  \n",
       "1       83425.6500         Year                  Y   Certified  \n",
       "2      122996.8600         Year                  Y      Denied  \n",
       "3       83434.0300         Year                  Y      Denied  \n",
       "4      149907.3900         Year                  Y   Certified  "
      ]
     },
     "execution_count": 172,
     "metadata": {},
     "output_type": "execute_result"
    }
   ],
   "source": [
    "data.head()"
   ]
  },
  {
   "cell_type": "markdown",
   "id": "768a341e",
   "metadata": {},
   "source": [
    "# fetching bottom 5 records "
   ]
  },
  {
   "cell_type": "code",
   "execution_count": 173,
   "id": "f3d98537",
   "metadata": {},
   "outputs": [
    {
     "data": {
      "text/html": [
       "<div>\n",
       "<style scoped>\n",
       "    .dataframe tbody tr th:only-of-type {\n",
       "        vertical-align: middle;\n",
       "    }\n",
       "\n",
       "    .dataframe tbody tr th {\n",
       "        vertical-align: top;\n",
       "    }\n",
       "\n",
       "    .dataframe thead th {\n",
       "        text-align: right;\n",
       "    }\n",
       "</style>\n",
       "<table border=\"1\" class=\"dataframe\">\n",
       "  <thead>\n",
       "    <tr style=\"text-align: right;\">\n",
       "      <th></th>\n",
       "      <th>case_id</th>\n",
       "      <th>continent</th>\n",
       "      <th>education_of_employee</th>\n",
       "      <th>has_job_experience</th>\n",
       "      <th>requires_job_training</th>\n",
       "      <th>no_of_employees</th>\n",
       "      <th>yr_of_estab</th>\n",
       "      <th>region_of_employment</th>\n",
       "      <th>prevailing_wage</th>\n",
       "      <th>unit_of_wage</th>\n",
       "      <th>full_time_position</th>\n",
       "      <th>case_status</th>\n",
       "    </tr>\n",
       "  </thead>\n",
       "  <tbody>\n",
       "    <tr>\n",
       "      <th>25475</th>\n",
       "      <td>EZYV25476</td>\n",
       "      <td>Asia</td>\n",
       "      <td>Bachelor's</td>\n",
       "      <td>Y</td>\n",
       "      <td>Y</td>\n",
       "      <td>2601</td>\n",
       "      <td>2008</td>\n",
       "      <td>South</td>\n",
       "      <td>77092.57</td>\n",
       "      <td>Year</td>\n",
       "      <td>Y</td>\n",
       "      <td>Certified</td>\n",
       "    </tr>\n",
       "    <tr>\n",
       "      <th>25476</th>\n",
       "      <td>EZYV25477</td>\n",
       "      <td>Asia</td>\n",
       "      <td>High School</td>\n",
       "      <td>Y</td>\n",
       "      <td>N</td>\n",
       "      <td>3274</td>\n",
       "      <td>2006</td>\n",
       "      <td>Northeast</td>\n",
       "      <td>279174.79</td>\n",
       "      <td>Year</td>\n",
       "      <td>Y</td>\n",
       "      <td>Certified</td>\n",
       "    </tr>\n",
       "    <tr>\n",
       "      <th>25477</th>\n",
       "      <td>EZYV25478</td>\n",
       "      <td>Asia</td>\n",
       "      <td>Master's</td>\n",
       "      <td>Y</td>\n",
       "      <td>N</td>\n",
       "      <td>1121</td>\n",
       "      <td>1910</td>\n",
       "      <td>South</td>\n",
       "      <td>146298.85</td>\n",
       "      <td>Year</td>\n",
       "      <td>N</td>\n",
       "      <td>Certified</td>\n",
       "    </tr>\n",
       "    <tr>\n",
       "      <th>25478</th>\n",
       "      <td>EZYV25479</td>\n",
       "      <td>Asia</td>\n",
       "      <td>Master's</td>\n",
       "      <td>Y</td>\n",
       "      <td>Y</td>\n",
       "      <td>1918</td>\n",
       "      <td>1887</td>\n",
       "      <td>West</td>\n",
       "      <td>86154.77</td>\n",
       "      <td>Year</td>\n",
       "      <td>Y</td>\n",
       "      <td>Certified</td>\n",
       "    </tr>\n",
       "    <tr>\n",
       "      <th>25479</th>\n",
       "      <td>EZYV25480</td>\n",
       "      <td>Asia</td>\n",
       "      <td>Bachelor's</td>\n",
       "      <td>Y</td>\n",
       "      <td>N</td>\n",
       "      <td>3195</td>\n",
       "      <td>1960</td>\n",
       "      <td>Midwest</td>\n",
       "      <td>70876.91</td>\n",
       "      <td>Year</td>\n",
       "      <td>Y</td>\n",
       "      <td>Certified</td>\n",
       "    </tr>\n",
       "  </tbody>\n",
       "</table>\n",
       "</div>"
      ],
      "text/plain": [
       "         case_id continent education_of_employee has_job_experience  \\\n",
       "25475  EZYV25476      Asia            Bachelor's                  Y   \n",
       "25476  EZYV25477      Asia           High School                  Y   \n",
       "25477  EZYV25478      Asia              Master's                  Y   \n",
       "25478  EZYV25479      Asia              Master's                  Y   \n",
       "25479  EZYV25480      Asia            Bachelor's                  Y   \n",
       "\n",
       "      requires_job_training  no_of_employees  yr_of_estab  \\\n",
       "25475                     Y             2601         2008   \n",
       "25476                     N             3274         2006   \n",
       "25477                     N             1121         1910   \n",
       "25478                     Y             1918         1887   \n",
       "25479                     N             3195         1960   \n",
       "\n",
       "      region_of_employment  prevailing_wage unit_of_wage full_time_position  \\\n",
       "25475                South         77092.57         Year                  Y   \n",
       "25476            Northeast        279174.79         Year                  Y   \n",
       "25477                South        146298.85         Year                  N   \n",
       "25478                 West         86154.77         Year                  Y   \n",
       "25479              Midwest         70876.91         Year                  Y   \n",
       "\n",
       "      case_status  \n",
       "25475   Certified  \n",
       "25476   Certified  \n",
       "25477   Certified  \n",
       "25478   Certified  \n",
       "25479   Certified  "
      ]
     },
     "execution_count": 173,
     "metadata": {},
     "output_type": "execute_result"
    }
   ],
   "source": [
    "data.tail()"
   ]
  },
  {
   "cell_type": "markdown",
   "id": "c341fc8a",
   "metadata": {},
   "source": [
    "# Total numbers of rows and columns"
   ]
  },
  {
   "cell_type": "code",
   "execution_count": 174,
   "id": "957e467f",
   "metadata": {},
   "outputs": [
    {
     "data": {
      "text/plain": [
       "(25480, 12)"
      ]
     },
     "execution_count": 174,
     "metadata": {},
     "output_type": "execute_result"
    }
   ],
   "source": [
    "data.shape"
   ]
  },
  {
   "cell_type": "markdown",
   "id": "8b3677da",
   "metadata": {},
   "source": [
    "# Memory Occupied by the Dataset"
   ]
  },
  {
   "cell_type": "code",
   "execution_count": 175,
   "id": "eb447b59",
   "metadata": {},
   "outputs": [
    {
     "data": {
      "text/plain": [
       "Index                       128\n",
       "case_id                  203840\n",
       "continent                203840\n",
       "education_of_employee    203840\n",
       "has_job_experience       203840\n",
       "requires_job_training    203840\n",
       "no_of_employees          203840\n",
       "yr_of_estab              203840\n",
       "region_of_employment     203840\n",
       "prevailing_wage          203840\n",
       "unit_of_wage             203840\n",
       "full_time_position       203840\n",
       "case_status              203840\n",
       "dtype: int64"
      ]
     },
     "execution_count": 175,
     "metadata": {},
     "output_type": "execute_result"
    }
   ],
   "source": [
    "data.memory_usage()"
   ]
  },
  {
   "cell_type": "markdown",
   "id": "5be01155",
   "metadata": {},
   "source": [
    "# Fetching all the column"
   ]
  },
  {
   "cell_type": "code",
   "execution_count": 176,
   "id": "0392d039",
   "metadata": {},
   "outputs": [
    {
     "data": {
      "text/plain": [
       "Index(['case_id', 'continent', 'education_of_employee', 'has_job_experience',\n",
       "       'requires_job_training', 'no_of_employees', 'yr_of_estab',\n",
       "       'region_of_employment', 'prevailing_wage', 'unit_of_wage',\n",
       "       'full_time_position', 'case_status'],\n",
       "      dtype='object')"
      ]
     },
     "execution_count": 176,
     "metadata": {},
     "output_type": "execute_result"
    }
   ],
   "source": [
    "data.columns"
   ]
  },
  {
   "cell_type": "markdown",
   "id": "ed787592",
   "metadata": {},
   "source": [
    "# fetching information regarding the data"
   ]
  },
  {
   "cell_type": "code",
   "execution_count": 177,
   "id": "06f59902",
   "metadata": {},
   "outputs": [
    {
     "name": "stdout",
     "output_type": "stream",
     "text": [
      "<class 'pandas.core.frame.DataFrame'>\n",
      "RangeIndex: 25480 entries, 0 to 25479\n",
      "Data columns (total 12 columns):\n",
      " #   Column                 Non-Null Count  Dtype  \n",
      "---  ------                 --------------  -----  \n",
      " 0   case_id                25480 non-null  object \n",
      " 1   continent              25480 non-null  object \n",
      " 2   education_of_employee  25480 non-null  object \n",
      " 3   has_job_experience     25480 non-null  object \n",
      " 4   requires_job_training  25480 non-null  object \n",
      " 5   no_of_employees        25480 non-null  int64  \n",
      " 6   yr_of_estab            25480 non-null  int64  \n",
      " 7   region_of_employment   25480 non-null  object \n",
      " 8   prevailing_wage        25480 non-null  float64\n",
      " 9   unit_of_wage           25480 non-null  object \n",
      " 10  full_time_position     25480 non-null  object \n",
      " 11  case_status            25480 non-null  object \n",
      "dtypes: float64(1), int64(2), object(9)\n",
      "memory usage: 2.3+ MB\n"
     ]
    }
   ],
   "source": [
    "data.info()"
   ]
  },
  {
   "cell_type": "markdown",
   "id": "cb3b7c15",
   "metadata": {},
   "source": [
    "# fetching non numeric columns from dataset"
   ]
  },
  {
   "cell_type": "code",
   "execution_count": 178,
   "id": "7c289975",
   "metadata": {},
   "outputs": [
    {
     "data": {
      "text/plain": [
       "['case_id',\n",
       " 'continent',\n",
       " 'education_of_employee',\n",
       " 'has_job_experience',\n",
       " 'requires_job_training',\n",
       " 'region_of_employment',\n",
       " 'unit_of_wage',\n",
       " 'full_time_position',\n",
       " 'case_status']"
      ]
     },
     "execution_count": 178,
     "metadata": {},
     "output_type": "execute_result"
    }
   ],
   "source": [
    "Cat_features= [feature for feature in data.columns if data[feature].dtype == 'O']\n",
    "Cat_features"
   ]
  },
  {
   "cell_type": "markdown",
   "id": "bd2e7722",
   "metadata": {},
   "source": [
    "# fetching numeric columns from dataset"
   ]
  },
  {
   "cell_type": "code",
   "execution_count": 179,
   "id": "d090f8d0",
   "metadata": {},
   "outputs": [
    {
     "data": {
      "text/plain": [
       "['no_of_employees', 'yr_of_estab', 'prevailing_wage']"
      ]
     },
     "execution_count": 179,
     "metadata": {},
     "output_type": "execute_result"
    }
   ],
   "source": [
    "Numeric_Feature = [feature for feature in data.columns if data[feature].dtype != 'O']\n",
    "Numeric_Feature"
   ]
  },
  {
   "cell_type": "markdown",
   "id": "b26439a3",
   "metadata": {},
   "source": [
    "# Checking Missing Value for each column"
   ]
  },
  {
   "cell_type": "code",
   "execution_count": 180,
   "id": "62d9be28",
   "metadata": {},
   "outputs": [
    {
     "data": {
      "text/plain": [
       "case_id                  0\n",
       "continent                0\n",
       "education_of_employee    0\n",
       "has_job_experience       0\n",
       "requires_job_training    0\n",
       "no_of_employees          0\n",
       "yr_of_estab              0\n",
       "region_of_employment     0\n",
       "prevailing_wage          0\n",
       "unit_of_wage             0\n",
       "full_time_position       0\n",
       "case_status              0\n",
       "dtype: int64"
      ]
     },
     "execution_count": 180,
     "metadata": {},
     "output_type": "execute_result"
    }
   ],
   "source": [
    "data.isnull().sum()"
   ]
  },
  {
   "cell_type": "markdown",
   "id": "54493f68",
   "metadata": {},
   "source": [
    "# Checking Duplicate Value for each column"
   ]
  },
  {
   "cell_type": "code",
   "execution_count": 181,
   "id": "41e5b928",
   "metadata": {},
   "outputs": [
    {
     "data": {
      "text/plain": [
       "0"
      ]
     },
     "execution_count": 181,
     "metadata": {},
     "output_type": "execute_result"
    }
   ],
   "source": [
    "data.duplicated().sum()"
   ]
  },
  {
   "cell_type": "markdown",
   "id": "5d2065a2",
   "metadata": {},
   "source": [
    "# Checking Unique Values for each column"
   ]
  },
  {
   "cell_type": "code",
   "execution_count": 182,
   "id": "66ba3ad2",
   "metadata": {},
   "outputs": [
    {
     "data": {
      "text/plain": [
       "case_id                  25480\n",
       "continent                    6\n",
       "education_of_employee        4\n",
       "has_job_experience           2\n",
       "requires_job_training        2\n",
       "no_of_employees           7105\n",
       "yr_of_estab                199\n",
       "region_of_employment         5\n",
       "prevailing_wage          25454\n",
       "unit_of_wage                 4\n",
       "full_time_position           2\n",
       "case_status                  2\n",
       "dtype: int64"
      ]
     },
     "execution_count": 182,
     "metadata": {},
     "output_type": "execute_result"
    }
   ],
   "source": [
    "data.nunique()"
   ]
  },
  {
   "cell_type": "markdown",
   "id": "5728cbae",
   "metadata": {},
   "source": [
    "# Checking Unique Value for Categorical Columns"
   ]
  },
  {
   "cell_type": "code",
   "execution_count": 183,
   "id": "d8a89606",
   "metadata": {},
   "outputs": [
    {
     "data": {
      "text/plain": [
       "array(['Asia', 'Africa', 'North America', 'Europe', 'South America',\n",
       "       'Oceania'], dtype=object)"
      ]
     },
     "execution_count": 183,
     "metadata": {},
     "output_type": "execute_result"
    }
   ],
   "source": [
    "data['continent'].unique()"
   ]
  },
  {
   "cell_type": "code",
   "execution_count": 184,
   "id": "875ed333",
   "metadata": {},
   "outputs": [
    {
     "data": {
      "text/plain": [
       "array(['High School', \"Master's\", \"Bachelor's\", 'Doctorate'], dtype=object)"
      ]
     },
     "execution_count": 184,
     "metadata": {},
     "output_type": "execute_result"
    }
   ],
   "source": [
    "data['education_of_employee'].unique()"
   ]
  },
  {
   "cell_type": "code",
   "execution_count": 185,
   "id": "72284f19",
   "metadata": {},
   "outputs": [
    {
     "data": {
      "text/plain": [
       "array(['N', 'Y'], dtype=object)"
      ]
     },
     "execution_count": 185,
     "metadata": {},
     "output_type": "execute_result"
    }
   ],
   "source": [
    "data['has_job_experience'].unique()"
   ]
  },
  {
   "cell_type": "code",
   "execution_count": 186,
   "id": "976f8271",
   "metadata": {},
   "outputs": [
    {
     "data": {
      "text/plain": [
       "array(['N', 'Y'], dtype=object)"
      ]
     },
     "execution_count": 186,
     "metadata": {},
     "output_type": "execute_result"
    }
   ],
   "source": [
    "data['requires_job_training'].unique()"
   ]
  },
  {
   "cell_type": "code",
   "execution_count": 187,
   "id": "176c8b0a",
   "metadata": {},
   "outputs": [
    {
     "data": {
      "text/plain": [
       "array(['West', 'Northeast', 'South', 'Midwest', 'Island'], dtype=object)"
      ]
     },
     "execution_count": 187,
     "metadata": {},
     "output_type": "execute_result"
    }
   ],
   "source": [
    "data['region_of_employment'].unique()"
   ]
  },
  {
   "cell_type": "code",
   "execution_count": 188,
   "id": "546679f7",
   "metadata": {},
   "outputs": [
    {
     "data": {
      "text/plain": [
       "array(['Hour', 'Year', 'Week', 'Month'], dtype=object)"
      ]
     },
     "execution_count": 188,
     "metadata": {},
     "output_type": "execute_result"
    }
   ],
   "source": [
    "data['unit_of_wage'].unique()"
   ]
  },
  {
   "cell_type": "code",
   "execution_count": 189,
   "id": "e0baf20e",
   "metadata": {},
   "outputs": [
    {
     "data": {
      "text/plain": [
       "array(['Y', 'N'], dtype=object)"
      ]
     },
     "execution_count": 189,
     "metadata": {},
     "output_type": "execute_result"
    }
   ],
   "source": [
    "data['full_time_position'].unique()"
   ]
  },
  {
   "cell_type": "code",
   "execution_count": 190,
   "id": "a2ebfbff",
   "metadata": {},
   "outputs": [
    {
     "data": {
      "text/plain": [
       "array(['Denied', 'Certified'], dtype=object)"
      ]
     },
     "execution_count": 190,
     "metadata": {},
     "output_type": "execute_result"
    }
   ],
   "source": [
    "data['case_status'].unique()"
   ]
  },
  {
   "cell_type": "markdown",
   "id": "51277b7c",
   "metadata": {},
   "source": [
    "# Checking Correlation b/w numeric values"
   ]
  },
  {
   "cell_type": "code",
   "execution_count": 191,
   "id": "af2d5acd",
   "metadata": {},
   "outputs": [
    {
     "data": {
      "text/html": [
       "<div>\n",
       "<style scoped>\n",
       "    .dataframe tbody tr th:only-of-type {\n",
       "        vertical-align: middle;\n",
       "    }\n",
       "\n",
       "    .dataframe tbody tr th {\n",
       "        vertical-align: top;\n",
       "    }\n",
       "\n",
       "    .dataframe thead th {\n",
       "        text-align: right;\n",
       "    }\n",
       "</style>\n",
       "<table border=\"1\" class=\"dataframe\">\n",
       "  <thead>\n",
       "    <tr style=\"text-align: right;\">\n",
       "      <th></th>\n",
       "      <th>no_of_employees</th>\n",
       "      <th>yr_of_estab</th>\n",
       "      <th>prevailing_wage</th>\n",
       "    </tr>\n",
       "  </thead>\n",
       "  <tbody>\n",
       "    <tr>\n",
       "      <th>no_of_employees</th>\n",
       "      <td>1.000000</td>\n",
       "      <td>-0.017770</td>\n",
       "      <td>-0.009523</td>\n",
       "    </tr>\n",
       "    <tr>\n",
       "      <th>yr_of_estab</th>\n",
       "      <td>-0.017770</td>\n",
       "      <td>1.000000</td>\n",
       "      <td>0.012342</td>\n",
       "    </tr>\n",
       "    <tr>\n",
       "      <th>prevailing_wage</th>\n",
       "      <td>-0.009523</td>\n",
       "      <td>0.012342</td>\n",
       "      <td>1.000000</td>\n",
       "    </tr>\n",
       "  </tbody>\n",
       "</table>\n",
       "</div>"
      ],
      "text/plain": [
       "                 no_of_employees  yr_of_estab  prevailing_wage\n",
       "no_of_employees         1.000000    -0.017770        -0.009523\n",
       "yr_of_estab            -0.017770     1.000000         0.012342\n",
       "prevailing_wage        -0.009523     0.012342         1.000000"
      ]
     },
     "execution_count": 191,
     "metadata": {},
     "output_type": "execute_result"
    }
   ],
   "source": [
    "data.corr()"
   ]
  },
  {
   "cell_type": "markdown",
   "id": "11fb78eb",
   "metadata": {},
   "source": [
    "HeatMap graph to visualize the correlation"
   ]
  },
  {
   "cell_type": "code",
   "execution_count": 192,
   "id": "4064ecf3",
   "metadata": {},
   "outputs": [
    {
     "data": {
      "text/plain": [
       "<AxesSubplot:>"
      ]
     },
     "execution_count": 192,
     "metadata": {},
     "output_type": "execute_result"
    },
    {
     "data": {
      "image/png": "[encoded data removed]",
      "text/plain": [
       "<Figure size 432x288 with 2 Axes>"
      ]
     },
     "metadata": {
      "needs_background": "light"
     },
     "output_type": "display_data"
    }
   ],
   "source": [
    "sns.heatmap(data.corr(), cmap='cividis')"
   ]
  },
  {
   "cell_type": "markdown",
   "id": "f80cc2c1",
   "metadata": {},
   "source": [
    "# 5 point summary for numeric values"
   ]
  },
  {
   "cell_type": "code",
   "execution_count": 193,
   "id": "5402fcfb",
   "metadata": {},
   "outputs": [
    {
     "data": {
      "text/html": [
       "<div>\n",
       "<style scoped>\n",
       "    .dataframe tbody tr th:only-of-type {\n",
       "        vertical-align: middle;\n",
       "    }\n",
       "\n",
       "    .dataframe tbody tr th {\n",
       "        vertical-align: top;\n",
       "    }\n",
       "\n",
       "    .dataframe thead th {\n",
       "        text-align: right;\n",
       "    }\n",
       "</style>\n",
       "<table border=\"1\" class=\"dataframe\">\n",
       "  <thead>\n",
       "    <tr style=\"text-align: right;\">\n",
       "      <th></th>\n",
       "      <th>no_of_employees</th>\n",
       "      <th>yr_of_estab</th>\n",
       "      <th>prevailing_wage</th>\n",
       "    </tr>\n",
       "  </thead>\n",
       "  <tbody>\n",
       "    <tr>\n",
       "      <th>count</th>\n",
       "      <td>25480.000000</td>\n",
       "      <td>25480.000000</td>\n",
       "      <td>25480.000000</td>\n",
       "    </tr>\n",
       "    <tr>\n",
       "      <th>mean</th>\n",
       "      <td>5667.043210</td>\n",
       "      <td>1979.409929</td>\n",
       "      <td>74455.814592</td>\n",
       "    </tr>\n",
       "    <tr>\n",
       "      <th>std</th>\n",
       "      <td>22877.928848</td>\n",
       "      <td>42.366929</td>\n",
       "      <td>52815.942327</td>\n",
       "    </tr>\n",
       "    <tr>\n",
       "      <th>min</th>\n",
       "      <td>-26.000000</td>\n",
       "      <td>1800.000000</td>\n",
       "      <td>2.136700</td>\n",
       "    </tr>\n",
       "    <tr>\n",
       "      <th>25%</th>\n",
       "      <td>1022.000000</td>\n",
       "      <td>1976.000000</td>\n",
       "      <td>34015.480000</td>\n",
       "    </tr>\n",
       "    <tr>\n",
       "      <th>50%</th>\n",
       "      <td>2109.000000</td>\n",
       "      <td>1997.000000</td>\n",
       "      <td>70308.210000</td>\n",
       "    </tr>\n",
       "    <tr>\n",
       "      <th>75%</th>\n",
       "      <td>3504.000000</td>\n",
       "      <td>2005.000000</td>\n",
       "      <td>107735.512500</td>\n",
       "    </tr>\n",
       "    <tr>\n",
       "      <th>max</th>\n",
       "      <td>602069.000000</td>\n",
       "      <td>2016.000000</td>\n",
       "      <td>319210.270000</td>\n",
       "    </tr>\n",
       "  </tbody>\n",
       "</table>\n",
       "</div>"
      ],
      "text/plain": [
       "       no_of_employees   yr_of_estab  prevailing_wage\n",
       "count     25480.000000  25480.000000     25480.000000\n",
       "mean       5667.043210   1979.409929     74455.814592\n",
       "std       22877.928848     42.366929     52815.942327\n",
       "min         -26.000000   1800.000000         2.136700\n",
       "25%        1022.000000   1976.000000     34015.480000\n",
       "50%        2109.000000   1997.000000     70308.210000\n",
       "75%        3504.000000   2005.000000    107735.512500\n",
       "max      602069.000000   2016.000000    319210.270000"
      ]
     },
     "execution_count": 193,
     "metadata": {},
     "output_type": "execute_result"
    }
   ],
   "source": [
    "data.describe()"
   ]
  },
  {
   "cell_type": "markdown",
   "id": "d0b37fbc",
   "metadata": {},
   "source": [
    "# Checking values for unit of wages to convert them into single uom"
   ]
  },
  {
   "cell_type": "code",
   "execution_count": 194,
   "id": "18cb8a3d",
   "metadata": {},
   "outputs": [
    {
     "data": {
      "text/plain": [
       "Year     22962\n",
       "Hour      2157\n",
       "Week       272\n",
       "Month       89\n",
       "Name: unit_of_wage, dtype: int64"
      ]
     },
     "execution_count": 194,
     "metadata": {},
     "output_type": "execute_result"
    }
   ],
   "source": [
    "data['unit_of_wage'].value_counts()"
   ]
  },
  {
   "cell_type": "markdown",
   "id": "82bcda4f",
   "metadata": {},
   "source": [
    "# Adjusting the prevailing wages to yearly amount and dropping the unit of wage column"
   ]
  },
  {
   "cell_type": "code",
   "execution_count": 195,
   "id": "06981b52",
   "metadata": {},
   "outputs": [],
   "source": [
    "Month_Index = data.loc[data['unit_of_wage'] == 'Month', 'prevailing_wage'].index\n",
    "Week_Index = data.loc[data['unit_of_wage'] == 'Week', 'prevailing_wage'].index\n",
    "Hour_Index = data.loc[data['unit_of_wage'] == 'Hour', 'prevailing_wage'].index"
   ]
  },
  {
   "cell_type": "code",
   "execution_count": 196,
   "id": "15accf91",
   "metadata": {},
   "outputs": [],
   "source": [
    "data.loc[Month_Index.to_list(), 'prevailing_wage'] = data.loc[Month_Index.to_list(), 'prevailing_wage']*12"
   ]
  },
  {
   "cell_type": "code",
   "execution_count": 197,
   "id": "5fdfd860",
   "metadata": {},
   "outputs": [],
   "source": [
    "data.loc[Week_Index.to_list(), 'prevailing_wage'] = data.loc[Week_Index.to_list(), 'prevailing_wage']*52\n",
    "data.loc[Hour_Index.to_list(), 'prevailing_wage'] = data.loc[Hour_Index.to_list(), 'prevailing_wage']*52*8"
   ]
  },
  {
   "cell_type": "code",
   "execution_count": 198,
   "id": "83af516e",
   "metadata": {},
   "outputs": [],
   "source": [
    "data.drop(columns= ['unit_of_wage'], inplace= True)"
   ]
  },
  {
   "cell_type": "markdown",
   "id": "d845af59",
   "metadata": {},
   "source": [
    "# Dropping Case_Id as it has no relevance"
   ]
  },
  {
   "cell_type": "code",
   "execution_count": 200,
   "id": "e5d80404",
   "metadata": {},
   "outputs": [],
   "source": [
    "data.drop(columns = ['case_id'], inplace = True)"
   ]
  },
  {
   "cell_type": "markdown",
   "id": "9c049029",
   "metadata": {},
   "source": [
    "# Data after alterations"
   ]
  },
  {
   "cell_type": "code",
   "execution_count": 201,
   "id": "1ef4189b",
   "metadata": {},
   "outputs": [
    {
     "data": {
      "text/html": [
       "<div>\n",
       "<style scoped>\n",
       "    .dataframe tbody tr th:only-of-type {\n",
       "        vertical-align: middle;\n",
       "    }\n",
       "\n",
       "    .dataframe tbody tr th {\n",
       "        vertical-align: top;\n",
       "    }\n",
       "\n",
       "    .dataframe thead th {\n",
       "        text-align: right;\n",
       "    }\n",
       "</style>\n",
       "<table border=\"1\" class=\"dataframe\">\n",
       "  <thead>\n",
       "    <tr style=\"text-align: right;\">\n",
       "      <th></th>\n",
       "      <th>continent</th>\n",
       "      <th>education_of_employee</th>\n",
       "      <th>has_job_experience</th>\n",
       "      <th>requires_job_training</th>\n",
       "      <th>no_of_employees</th>\n",
       "      <th>yr_of_estab</th>\n",
       "      <th>region_of_employment</th>\n",
       "      <th>prevailing_wage</th>\n",
       "      <th>full_time_position</th>\n",
       "      <th>case_status</th>\n",
       "    </tr>\n",
       "  </thead>\n",
       "  <tbody>\n",
       "    <tr>\n",
       "      <th>0</th>\n",
       "      <td>Asia</td>\n",
       "      <td>High School</td>\n",
       "      <td>N</td>\n",
       "      <td>N</td>\n",
       "      <td>14513</td>\n",
       "      <td>2007</td>\n",
       "      <td>West</td>\n",
       "      <td>246356.4064</td>\n",
       "      <td>Y</td>\n",
       "      <td>Denied</td>\n",
       "    </tr>\n",
       "    <tr>\n",
       "      <th>1</th>\n",
       "      <td>Asia</td>\n",
       "      <td>Master's</td>\n",
       "      <td>Y</td>\n",
       "      <td>N</td>\n",
       "      <td>2412</td>\n",
       "      <td>2002</td>\n",
       "      <td>Northeast</td>\n",
       "      <td>83425.6500</td>\n",
       "      <td>Y</td>\n",
       "      <td>Certified</td>\n",
       "    </tr>\n",
       "    <tr>\n",
       "      <th>2</th>\n",
       "      <td>Asia</td>\n",
       "      <td>Bachelor's</td>\n",
       "      <td>N</td>\n",
       "      <td>Y</td>\n",
       "      <td>44444</td>\n",
       "      <td>2008</td>\n",
       "      <td>West</td>\n",
       "      <td>122996.8600</td>\n",
       "      <td>Y</td>\n",
       "      <td>Denied</td>\n",
       "    </tr>\n",
       "    <tr>\n",
       "      <th>3</th>\n",
       "      <td>Asia</td>\n",
       "      <td>Bachelor's</td>\n",
       "      <td>N</td>\n",
       "      <td>N</td>\n",
       "      <td>98</td>\n",
       "      <td>1897</td>\n",
       "      <td>West</td>\n",
       "      <td>83434.0300</td>\n",
       "      <td>Y</td>\n",
       "      <td>Denied</td>\n",
       "    </tr>\n",
       "    <tr>\n",
       "      <th>4</th>\n",
       "      <td>Africa</td>\n",
       "      <td>Master's</td>\n",
       "      <td>Y</td>\n",
       "      <td>N</td>\n",
       "      <td>1082</td>\n",
       "      <td>2005</td>\n",
       "      <td>South</td>\n",
       "      <td>149907.3900</td>\n",
       "      <td>Y</td>\n",
       "      <td>Certified</td>\n",
       "    </tr>\n",
       "    <tr>\n",
       "      <th>...</th>\n",
       "      <td>...</td>\n",
       "      <td>...</td>\n",
       "      <td>...</td>\n",
       "      <td>...</td>\n",
       "      <td>...</td>\n",
       "      <td>...</td>\n",
       "      <td>...</td>\n",
       "      <td>...</td>\n",
       "      <td>...</td>\n",
       "      <td>...</td>\n",
       "    </tr>\n",
       "    <tr>\n",
       "      <th>25475</th>\n",
       "      <td>Asia</td>\n",
       "      <td>Bachelor's</td>\n",
       "      <td>Y</td>\n",
       "      <td>Y</td>\n",
       "      <td>2601</td>\n",
       "      <td>2008</td>\n",
       "      <td>South</td>\n",
       "      <td>77092.5700</td>\n",
       "      <td>Y</td>\n",
       "      <td>Certified</td>\n",
       "    </tr>\n",
       "    <tr>\n",
       "      <th>25476</th>\n",
       "      <td>Asia</td>\n",
       "      <td>High School</td>\n",
       "      <td>Y</td>\n",
       "      <td>N</td>\n",
       "      <td>3274</td>\n",
       "      <td>2006</td>\n",
       "      <td>Northeast</td>\n",
       "      <td>279174.7900</td>\n",
       "      <td>Y</td>\n",
       "      <td>Certified</td>\n",
       "    </tr>\n",
       "    <tr>\n",
       "      <th>25477</th>\n",
       "      <td>Asia</td>\n",
       "      <td>Master's</td>\n",
       "      <td>Y</td>\n",
       "      <td>N</td>\n",
       "      <td>1121</td>\n",
       "      <td>1910</td>\n",
       "      <td>South</td>\n",
       "      <td>146298.8500</td>\n",
       "      <td>N</td>\n",
       "      <td>Certified</td>\n",
       "    </tr>\n",
       "    <tr>\n",
       "      <th>25478</th>\n",
       "      <td>Asia</td>\n",
       "      <td>Master's</td>\n",
       "      <td>Y</td>\n",
       "      <td>Y</td>\n",
       "      <td>1918</td>\n",
       "      <td>1887</td>\n",
       "      <td>West</td>\n",
       "      <td>86154.7700</td>\n",
       "      <td>Y</td>\n",
       "      <td>Certified</td>\n",
       "    </tr>\n",
       "    <tr>\n",
       "      <th>25479</th>\n",
       "      <td>Asia</td>\n",
       "      <td>Bachelor's</td>\n",
       "      <td>Y</td>\n",
       "      <td>N</td>\n",
       "      <td>3195</td>\n",
       "      <td>1960</td>\n",
       "      <td>Midwest</td>\n",
       "      <td>70876.9100</td>\n",
       "      <td>Y</td>\n",
       "      <td>Certified</td>\n",
       "    </tr>\n",
       "  </tbody>\n",
       "</table>\n",
       "<p>25480 rows × 10 columns</p>\n",
       "</div>"
      ],
      "text/plain": [
       "      continent education_of_employee has_job_experience  \\\n",
       "0          Asia           High School                  N   \n",
       "1          Asia              Master's                  Y   \n",
       "2          Asia            Bachelor's                  N   \n",
       "3          Asia            Bachelor's                  N   \n",
       "4        Africa              Master's                  Y   \n",
       "...         ...                   ...                ...   \n",
       "25475      Asia            Bachelor's                  Y   \n",
       "25476      Asia           High School                  Y   \n",
       "25477      Asia              Master's                  Y   \n",
       "25478      Asia              Master's                  Y   \n",
       "25479      Asia            Bachelor's                  Y   \n",
       "\n",
       "      requires_job_training  no_of_employees  yr_of_estab  \\\n",
       "0                         N            14513         2007   \n",
       "1                         N             2412         2002   \n",
       "2                         Y            44444         2008   \n",
       "3                         N               98         1897   \n",
       "4                         N             1082         2005   \n",
       "...                     ...              ...          ...   \n",
       "25475                     Y             2601         2008   \n",
       "25476                     N             3274         2006   \n",
       "25477                     N             1121         1910   \n",
       "25478                     Y             1918         1887   \n",
       "25479                     N             3195         1960   \n",
       "\n",
       "      region_of_employment  prevailing_wage full_time_position case_status  \n",
       "0                     West      246356.4064                  Y      Denied  \n",
       "1                Northeast       83425.6500                  Y   Certified  \n",
       "2                     West      122996.8600                  Y      Denied  \n",
       "3                     West       83434.0300                  Y      Denied  \n",
       "4                    South      149907.3900                  Y   Certified  \n",
       "...                    ...              ...                ...         ...  \n",
       "25475                South       77092.5700                  Y   Certified  \n",
       "25476            Northeast      279174.7900                  Y   Certified  \n",
       "25477                South      146298.8500                  N   Certified  \n",
       "25478                 West       86154.7700                  Y   Certified  \n",
       "25479              Midwest       70876.9100                  Y   Certified  \n",
       "\n",
       "[25480 rows x 10 columns]"
      ]
     },
     "execution_count": 201,
     "metadata": {},
     "output_type": "execute_result"
    }
   ],
   "source": [
    "data"
   ]
  },
  {
   "cell_type": "markdown",
   "id": "8b81e932",
   "metadata": {},
   "source": [
    "# Distribution of Prevailing Wages"
   ]
  },
  {
   "cell_type": "code",
   "execution_count": 202,
   "id": "31000c8c",
   "metadata": {},
   "outputs": [
    {
     "data": {
      "text/plain": [
       "<AxesSubplot:xlabel='prevailing_wage', ylabel='Density'>"
      ]
     },
     "execution_count": 202,
     "metadata": {},
     "output_type": "execute_result"
    },
    {
     "data": {
      "image/png": "[encoded data removed]",
      "text/plain": [
       "<Figure size 432x288 with 1 Axes>"
      ]
     },
     "metadata": {
      "needs_background": "light"
     },
     "output_type": "display_data"
    }
   ],
   "source": [
    "sns.distplot(data['prevailing_wage'])"
   ]
  },
  {
   "cell_type": "markdown",
   "id": "1f51d973",
   "metadata": {},
   "source": [
    "# Conclusion : Data is right skewed."
   ]
  },
  {
   "cell_type": "code",
   "execution_count": 203,
   "id": "432aad33",
   "metadata": {},
   "outputs": [
    {
     "data": {
      "text/plain": [
       "no_of_employees    12.265260\n",
       "yr_of_estab        -2.037301\n",
       "prevailing_wage    12.290191\n",
       "dtype: float64"
      ]
     },
     "execution_count": 203,
     "metadata": {},
     "output_type": "execute_result"
    }
   ],
   "source": [
    "data.skew()"
   ]
  },
  {
   "cell_type": "markdown",
   "id": "dc991845",
   "metadata": {},
   "source": [
    "# Representing outliers by box plot"
   ]
  },
  {
   "cell_type": "code",
   "execution_count": 204,
   "id": "3001f458",
   "metadata": {},
   "outputs": [
    {
     "data": {
      "text/plain": [
       "<AxesSubplot:xlabel='prevailing_wage'>"
      ]
     },
     "execution_count": 204,
     "metadata": {},
     "output_type": "execute_result"
    },
    {
     "data": {
      "image/png": "[encoded data removed]",
      "text/plain": [
       "<Figure size 432x288 with 1 Axes>"
      ]
     },
     "metadata": {
      "needs_background": "light"
     },
     "output_type": "display_data"
    }
   ],
   "source": [
    "sns.boxplot(x= data['prevailing_wage'])"
   ]
  },
  {
   "cell_type": "code",
   "execution_count": 206,
   "id": "7946b0c7",
   "metadata": {},
   "outputs": [
    {
     "data": {
      "text/plain": [
       "<AxesSubplot:xlabel='prevailing_wage'>"
      ]
     },
     "execution_count": 206,
     "metadata": {},
     "output_type": "execute_result"
    },
    {
     "data": {
      "image/png": "[encoded data removed]",
      "text/plain": [
       "<Figure size 432x288 with 1 Axes>"
      ]
     },
     "metadata": {
      "needs_background": "light"
     },
     "output_type": "display_data"
    }
   ],
   "source": [
    "sns.violinplot(x=data['prevailing_wage'], color =  \"blue\")"
   ]
  },
  {
   "cell_type": "markdown",
   "id": "368143bb",
   "metadata": {},
   "source": [
    "# Conclusion : The wage distribution has significant range and its mean is highly affected by outliers. Hence there are couple of outliers in the given feature."
   ]
  },
  {
   "cell_type": "markdown",
   "id": "8a5349e5",
   "metadata": {},
   "source": [
    "# Univariate Analysis"
   ]
  },
  {
   "cell_type": "markdown",
   "id": "9ad908a2",
   "metadata": {},
   "source": [
    "# Count-plot for Continents"
   ]
  },
  {
   "cell_type": "code",
   "execution_count": 232,
   "id": "8574c694",
   "metadata": {},
   "outputs": [
    {
     "data": {
      "text/plain": [
       "<AxesSubplot:xlabel='continent', ylabel='count'>"
      ]
     },
     "execution_count": 232,
     "metadata": {},
     "output_type": "execute_result"
    },
    {
     "data": {
      "image/png": "[encoded data removed]",
      "text/plain": [
       "<Figure size 432x288 with 1 Axes>"
      ]
     },
     "metadata": {},
     "output_type": "display_data"
    }
   ],
   "source": [
    "sns.set_style('darkgrid')\n",
    "sns.countplot(x = 'continent', data = data,  order = data['continent'].value_counts().index,)"
   ]
  },
  {
   "cell_type": "markdown",
   "id": "cf206857",
   "metadata": {},
   "source": [
    "# Conclusion: Most of the person who applied for visa belongs to Asia followed by Europe and North America"
   ]
  },
  {
   "cell_type": "markdown",
   "id": "096c2976",
   "metadata": {},
   "source": [
    "# Count Plot for Employee Education"
   ]
  },
  {
   "cell_type": "code",
   "execution_count": 233,
   "id": "de31fd97",
   "metadata": {},
   "outputs": [
    {
     "data": {
      "text/plain": [
       "<AxesSubplot:xlabel='education_of_employee', ylabel='count'>"
      ]
     },
     "execution_count": 233,
     "metadata": {},
     "output_type": "execute_result"
    },
    {
     "data": {
      "image/png": "[encoded data removed]",
      "text/plain": [
       "<Figure size 432x288 with 1 Axes>"
      ]
     },
     "metadata": {},
     "output_type": "display_data"
    }
   ],
   "source": [
    "sns.set_style('darkgrid')\n",
    "sns.countplot(x = 'education_of_employee', data = data,  order = data['education_of_employee'].value_counts().index,)"
   ]
  },
  {
   "cell_type": "markdown",
   "id": "4c737639",
   "metadata": {},
   "source": [
    "# Conclusion: Most of the visa appliers has education as bachelor's followed by Master's"
   ]
  },
  {
   "cell_type": "code",
   "execution_count": 260,
   "id": "e2b0111f",
   "metadata": {},
   "outputs": [
    {
     "data": {
      "image/png": "[encoded data removed]",
      "text/plain": [
       "<Figure size 500x500 with 1 Axes>"
      ]
     },
     "metadata": {},
     "output_type": "display_data"
    }
   ],
   "source": [
    "values = data['education_of_employee'].value_counts()\n",
    "labels = [\"Bachelor's\", \"Master's\", \"High School\", \"Doctorate\"]\n",
    "explode = (0.05, 0, 0, 0)\n",
    "\n",
    "fig, ax = plt.subplots(figsize = (5, 5), dpi = 100)\n",
    "patches, texts, autotexts = ax.pie(values, labels = labels, autopct = '%1.2f%%', shadow = True,\n",
    "                                   startangle = 90, explode = explode)\n",
    "\n",
    "plt.setp(texts, color = 'DarkBlue')\n",
    "plt.setp(autotexts, size = 13, color = 'white')\n",
    "plt.show()"
   ]
  },
  {
   "cell_type": "code",
   "execution_count": 227,
   "id": "8acf9b9e",
   "metadata": {},
   "outputs": [
    {
     "data": {
      "text/plain": [
       "<AxesSubplot:xlabel='requires_job_training', ylabel='count'>"
      ]
     },
     "execution_count": 227,
     "metadata": {},
     "output_type": "execute_result"
    },
    {
     "data": {
      "image/png": "[encoded data removed]",
      "text/plain": [
       "<Figure size 432x288 with 1 Axes>"
      ]
     },
     "metadata": {},
     "output_type": "display_data"
    }
   ],
   "source": [
    "sns.set_style('darkgrid')\n",
    "sns.countplot(x = 'requires_job_training', data = data,  order = data['requires_job_training'].value_counts().index)"
   ]
  },
  {
   "cell_type": "markdown",
   "id": "1f92cd52",
   "metadata": {},
   "source": [
    "# Conclusion : Most of the visa appliers doesn't require the job trailning"
   ]
  },
  {
   "cell_type": "code",
   "execution_count": 230,
   "id": "5623c8d7",
   "metadata": {},
   "outputs": [
    {
     "data": {
      "text/plain": [
       "N    0.884027\n",
       "Y    0.115973\n",
       "Name: requires_job_training, dtype: float64"
      ]
     },
     "execution_count": 230,
     "metadata": {},
     "output_type": "execute_result"
    }
   ],
   "source": [
    "data['requires_job_training'].value_counts(normalize = True)"
   ]
  },
  {
   "cell_type": "markdown",
   "id": "58688576",
   "metadata": {},
   "source": [
    "# Conclusion: 88.4% of appliers doesn't require any job training"
   ]
  },
  {
   "cell_type": "code",
   "execution_count": 234,
   "id": "e55a12d7",
   "metadata": {},
   "outputs": [
    {
     "data": {
      "text/plain": [
       "<AxesSubplot:xlabel='region_of_employment', ylabel='count'>"
      ]
     },
     "execution_count": 234,
     "metadata": {},
     "output_type": "execute_result"
    },
    {
     "data": {
      "image/png": "[encoded data removed]",
      "text/plain": [
       "<Figure size 432x288 with 1 Axes>"
      ]
     },
     "metadata": {},
     "output_type": "display_data"
    }
   ],
   "source": [
    "sns.set_style('darkgrid')\n",
    "sns.countplot(x = 'region_of_employment', data = data,  order = data['region_of_employment'].value_counts().index)"
   ]
  },
  {
   "cell_type": "markdown",
   "id": "918e0e34",
   "metadata": {},
   "source": [
    "# Conclustion : North east has most employement followed by south"
   ]
  },
  {
   "cell_type": "code",
   "execution_count": 236,
   "id": "e210599f",
   "metadata": {},
   "outputs": [
    {
     "data": {
      "text/plain": [
       "<AxesSubplot:xlabel='full_time_position', ylabel='count'>"
      ]
     },
     "execution_count": 236,
     "metadata": {},
     "output_type": "execute_result"
    },
    {
     "data": {
      "image/png": "[encoded data removed]",
      "text/plain": [
       "<Figure size 432x288 with 1 Axes>"
      ]
     },
     "metadata": {},
     "output_type": "display_data"
    }
   ],
   "source": [
    "sns.set_style('darkgrid')\n",
    "sns.countplot(x = 'full_time_position', data = data,  order = data['full_time_position'].value_counts().index)"
   ]
  },
  {
   "cell_type": "markdown",
   "id": "1bbc1659",
   "metadata": {},
   "source": [
    "# Conclusion : Most of the visa candidates has full time job position"
   ]
  },
  {
   "cell_type": "code",
   "execution_count": 245,
   "id": "e0af1912",
   "metadata": {},
   "outputs": [
    {
     "data": {
      "text/plain": [
       "Certified    17018\n",
       "Denied        8462\n",
       "Name: case_status, dtype: int64"
      ]
     },
     "execution_count": 245,
     "metadata": {},
     "output_type": "execute_result"
    }
   ],
   "source": [
    "data.case_status.value_counts()"
   ]
  },
  {
   "cell_type": "code",
   "execution_count": 241,
   "id": "ae897c85",
   "metadata": {},
   "outputs": [
    {
     "data": {
      "image/png": "[encoded data removed]",
      "text/plain": [
       "<Figure size 432x288 with 1 Axes>"
      ]
     },
     "metadata": {},
     "output_type": "display_data"
    }
   ],
   "source": [
    "sns.set_style('darkgrid')\n",
    "sns.countplot(x = 'case_status', data = data,  order = data['case_status'].value_counts().index)\n",
    "plt.title(\"Visa Approval Status\")\n",
    "plt.show()"
   ]
  },
  {
   "cell_type": "markdown",
   "id": "35587f35",
   "metadata": {},
   "source": [
    "# Conclusion: Around 16K+ candidates got visa approved and 8K+ got rejected"
   ]
  },
  {
   "cell_type": "code",
   "execution_count": 244,
   "id": "fc64adb3",
   "metadata": {},
   "outputs": [
    {
     "data": {
      "image/png": "[encoded data removed]",
      "text/plain": [
       "<Figure size 500x500 with 1 Axes>"
      ]
     },
     "metadata": {},
     "output_type": "display_data"
    }
   ],
   "source": [
    "values = data['case_status'].value_counts()\n",
    "labels = ['Certified', 'Denied']\n",
    "\n",
    "fig, ax = plt.subplots(figsize = (5, 5), dpi = 100)\n",
    "explode = (0, 0.06)\n",
    "\n",
    "patches, texts, autotexts = ax.pie(values, labels = labels, autopct = '%1.2f%%', shadow = True,\n",
    "                                   startangle = 90, explode = explode)\n",
    "\n",
    "plt.setp(texts, color = 'DarkBlue')\n",
    "plt.setp(autotexts, size = 12, color = 'white')\n",
    "autotexts[1].set_color('black')\n",
    "plt.show()"
   ]
  },
  {
   "cell_type": "markdown",
   "id": "6a88c566",
   "metadata": {},
   "source": [
    "# Bivariate Analysis"
   ]
  },
  {
   "cell_type": "code",
   "execution_count": 246,
   "id": "04c02bb7",
   "metadata": {},
   "outputs": [
    {
     "data": {
      "text/plain": [
       "education_of_employee  case_status\n",
       "Bachelor's             Certified      6367\n",
       "                       Denied         3867\n",
       "Doctorate              Certified      1912\n",
       "                       Denied          280\n",
       "High School            Certified      1164\n",
       "                       Denied         2256\n",
       "Master's               Certified      7575\n",
       "                       Denied         2059\n",
       "Name: case_status, dtype: int64"
      ]
     },
     "execution_count": 246,
     "metadata": {},
     "output_type": "execute_result"
    }
   ],
   "source": [
    "data.groupby(['education_of_employee', 'case_status'])['case_status'].count()"
   ]
  },
  {
   "cell_type": "code",
   "execution_count": 249,
   "id": "fe671ea1",
   "metadata": {},
   "outputs": [
    {
     "data": {
      "image/png": "[encoded data removed]",
      "text/plain": [
       "<Figure size 432x288 with 1 Axes>"
      ]
     },
     "metadata": {},
     "output_type": "display_data"
    }
   ],
   "source": [
    "sns.countplot(x = 'education_of_employee', data = data, hue = 'case_status' )\n",
    "plt.show()"
   ]
  },
  {
   "cell_type": "markdown",
   "id": "41205922",
   "metadata": {},
   "source": [
    "# Conclusion : The candidate who has Master's Degree has greater chances of Visa being approved"
   ]
  },
  {
   "cell_type": "code",
   "execution_count": 261,
   "id": "355f1fa4",
   "metadata": {},
   "outputs": [
    {
     "data": {
      "text/plain": [
       "has_job_experience  case_status\n",
       "N                   Certified       5994\n",
       "                    Denied          4684\n",
       "Y                   Certified      11024\n",
       "                    Denied          3778\n",
       "Name: case_status, dtype: int64"
      ]
     },
     "execution_count": 261,
     "metadata": {},
     "output_type": "execute_result"
    }
   ],
   "source": [
    "data.groupby(['has_job_experience', 'case_status'])['case_status'].count()"
   ]
  },
  {
   "cell_type": "code",
   "execution_count": 262,
   "id": "a9467b81",
   "metadata": {},
   "outputs": [
    {
     "data": {
      "image/png": "[encoded data removed]",
      "text/plain": [
       "<Figure size 432x288 with 1 Axes>"
      ]
     },
     "metadata": {},
     "output_type": "display_data"
    }
   ],
   "source": [
    "sns.countplot(x = 'has_job_experience', data = data, hue = 'case_status' )\n",
    "plt.show()"
   ]
  },
  {
   "cell_type": "markdown",
   "id": "2d58e3e9",
   "metadata": {},
   "source": [
    "# Conclusion : The candidate who has JOB Experience has greater chances of Visa being approved"
   ]
  },
  {
   "cell_type": "code",
   "execution_count": 263,
   "id": "6bb6315a",
   "metadata": {},
   "outputs": [
    {
     "data": {
      "text/plain": [
       "requires_job_training  case_status\n",
       "N                      Certified      15012\n",
       "                       Denied          7513\n",
       "Y                      Certified       2006\n",
       "                       Denied           949\n",
       "Name: case_status, dtype: int64"
      ]
     },
     "execution_count": 263,
     "metadata": {},
     "output_type": "execute_result"
    }
   ],
   "source": [
    "data.groupby(['requires_job_training', 'case_status'])['case_status'].count()"
   ]
  },
  {
   "cell_type": "code",
   "execution_count": 264,
   "id": "15825ce0",
   "metadata": {},
   "outputs": [
    {
     "data": {
      "image/png": "[encoded data removed]",
      "text/plain": [
       "<Figure size 432x288 with 1 Axes>"
      ]
     },
     "metadata": {},
     "output_type": "display_data"
    }
   ],
   "source": [
    "sns.countplot(x = 'requires_job_training', data = data, hue = 'case_status' )\n",
    "plt.show()"
   ]
  },
  {
   "cell_type": "markdown",
   "id": "fb7ea8a3",
   "metadata": {},
   "source": [
    "# Conclusion : The candidate who requires no job training has greater chances of Visa being approved."
   ]
  },
  {
   "cell_type": "code",
   "execution_count": 265,
   "id": "be9e96d5",
   "metadata": {},
   "outputs": [
    {
     "data": {
      "text/plain": [
       "full_time_position  case_status\n",
       "N                   Certified       1855\n",
       "                    Denied           852\n",
       "Y                   Certified      15163\n",
       "                    Denied          7610\n",
       "Name: case_status, dtype: int64"
      ]
     },
     "execution_count": 265,
     "metadata": {},
     "output_type": "execute_result"
    }
   ],
   "source": [
    "data.groupby(['full_time_position', 'case_status'])['case_status'].count()"
   ]
  },
  {
   "cell_type": "code",
   "execution_count": 266,
   "id": "1bb0c121",
   "metadata": {},
   "outputs": [
    {
     "data": {
      "image/png": "[encoded data removed]",
      "text/plain": [
       "<Figure size 432x288 with 1 Axes>"
      ]
     },
     "metadata": {},
     "output_type": "display_data"
    }
   ],
   "source": [
    "sns.countplot(x = 'full_time_position', data = data, hue = 'case_status')\n",
    "plt.show()"
   ]
  },
  {
   "cell_type": "markdown",
   "id": "13883c67",
   "metadata": {},
   "source": [
    "# Conclusion : The candidate who has full time position has greater chances of Visa being approved."
   ]
  },
  {
   "cell_type": "markdown",
   "id": "4d608fd7",
   "metadata": {},
   "source": [
    "# Average Wage of Applicants with education degree"
   ]
  },
  {
   "cell_type": "code",
   "execution_count": 269,
   "id": "fd8f3afe",
   "metadata": {},
   "outputs": [
    {
     "data": {
      "text/plain": [
       "<AxesSubplot:xlabel='education_of_employee', ylabel='prevailing_wage'>"
      ]
     },
     "execution_count": 269,
     "metadata": {},
     "output_type": "execute_result"
    },
    {
     "data": {
      "image/png": "[encoded data removed]",
      "text/plain": [
       "<Figure size 432x288 with 1 Axes>"
      ]
     },
     "metadata": {},
     "output_type": "display_data"
    }
   ],
   "source": [
    "sns.set_style('darkgrid')\n",
    "sns.barplot(y='prevailing_wage',x = 'education_of_employee', data=data)"
   ]
  },
  {
   "cell_type": "code",
   "execution_count": 271,
   "id": "156f3b02",
   "metadata": {},
   "outputs": [
    {
     "data": {
      "text/plain": [
       "education_of_employee\n",
       "Bachelor's     148247.091435\n",
       "Doctorate       87824.167726\n",
       "High School    135691.075141\n",
       "Master's       141975.863095\n",
       "Name: prevailing_wage, dtype: float64"
      ]
     },
     "execution_count": 271,
     "metadata": {},
     "output_type": "execute_result"
    }
   ],
   "source": [
    "data.groupby(['education_of_employee'])['prevailing_wage'].mean()"
   ]
  },
  {
   "cell_type": "markdown",
   "id": "32d064eb",
   "metadata": {},
   "source": [
    "# Conclusion: Applicants with bachelor's degree seems to perform better in terms of compensation compared to applicants with other highest education degree."
   ]
  },
  {
   "cell_type": "code",
   "execution_count": 272,
   "id": "82199482",
   "metadata": {},
   "outputs": [
    {
     "data": {
      "text/plain": [
       "<AxesSubplot:xlabel='has_job_experience', ylabel='prevailing_wage'>"
      ]
     },
     "execution_count": 272,
     "metadata": {},
     "output_type": "execute_result"
    },
    {
     "data": {
      "image/png": "[encoded data removed]",
      "text/plain": [
       "<Figure size 432x288 with 1 Axes>"
      ]
     },
     "metadata": {},
     "output_type": "display_data"
    }
   ],
   "source": [
    "sns.set_style('darkgrid')\n",
    "sns.barplot(y='prevailing_wage',x = 'has_job_experience', data=data)"
   ]
  },
  {
   "cell_type": "code",
   "execution_count": 287,
   "id": "c1c27bdc",
   "metadata": {},
   "outputs": [
    {
     "data": {
      "text/plain": [
       "has_job_experience\n",
       "N    131159.091954\n",
       "Y    144643.525709\n",
       "Name: prevailing_wage, dtype: float64"
      ]
     },
     "execution_count": 287,
     "metadata": {},
     "output_type": "execute_result"
    }
   ],
   "source": [
    "data.groupby(['has_job_experience'])['prevailing_wage'].mean()"
   ]
  },
  {
   "cell_type": "markdown",
   "id": "f548986b",
   "metadata": {},
   "source": [
    "# Conclusion: Number of Applicants with prior job experience has on an average higher monetary compensation."
   ]
  },
  {
   "cell_type": "markdown",
   "id": "faa19324",
   "metadata": {},
   "source": [
    "# Region of employment and no. of emplyees present there in respective continents"
   ]
  },
  {
   "cell_type": "code",
   "execution_count": 289,
   "id": "57ad4c32",
   "metadata": {},
   "outputs": [
    {
     "data": {
      "text/plain": [
       "<AxesSubplot:xlabel='continent', ylabel='no_of_employees'>"
      ]
     },
     "execution_count": 289,
     "metadata": {},
     "output_type": "execute_result"
    },
    {
     "data": {
      "image/png": "[encoded data removed]",
      "text/plain": [
       "<Figure size 432x288 with 1 Axes>"
      ]
     },
     "metadata": {},
     "output_type": "display_data"
    }
   ],
   "source": [
    "sns.set_style('darkgrid')\n",
    "sns.barplot(y='no_of_employees',x='continent', hue='region_of_employment', data=data)"
   ]
  },
  {
   "cell_type": "markdown",
   "id": "9bf4ee9c",
   "metadata": {},
   "source": [
    "# Educational Qualification and region of employment of applicants"
   ]
  },
  {
   "cell_type": "code",
   "execution_count": 291,
   "id": "aad39545",
   "metadata": {},
   "outputs": [
    {
     "data": {
      "text/plain": [
       "<AxesSubplot:xlabel='education_of_employee', ylabel='count'>"
      ]
     },
     "execution_count": 291,
     "metadata": {},
     "output_type": "execute_result"
    },
    {
     "data": {
      "image/png": "[encoded data removed]",
      "text/plain": [
       "<Figure size 432x288 with 1 Axes>"
      ]
     },
     "metadata": {},
     "output_type": "display_data"
    }
   ],
   "source": [
    "sns.set_style('white')\n",
    "sns.countplot(x = 'education_of_employee', hue = 'continent', data = data, order = data['education_of_employee'].value_counts().index)"
   ]
  },
  {
   "cell_type": "markdown",
   "id": "1f982f53",
   "metadata": {},
   "source": [
    "# Conclusion: Most of the students are moving to Asia and north Europe"
   ]
  },
  {
   "cell_type": "markdown",
   "id": "0086afcd",
   "metadata": {},
   "source": [
    "# Visa-status per Continent"
   ]
  },
  {
   "cell_type": "code",
   "execution_count": 292,
   "id": "40c809cb",
   "metadata": {},
   "outputs": [
    {
     "data": {
      "text/plain": [
       "<AxesSubplot:xlabel='continent', ylabel='count'>"
      ]
     },
     "execution_count": 292,
     "metadata": {},
     "output_type": "execute_result"
    },
    {
     "data": {
      "image/png": "[encoded data removed]",
      "text/plain": [
       "<Figure size 576x576 with 1 Axes>"
      ]
     },
     "metadata": {},
     "output_type": "display_data"
    }
   ],
   "source": [
    "plt.figure(figsize=(8, 8))\n",
    "sns.countplot(data=data, x='continent', hue='case_status', )"
   ]
  },
  {
   "cell_type": "code",
   "execution_count": 275,
   "id": "75ebaef0",
   "metadata": {},
   "outputs": [
    {
     "data": {
      "text/plain": [
       "has_job_experience  requires_job_training  full_time_position\n",
       "N                   N                      N                     131189.629229\n",
       "                                           Y                     139533.240834\n",
       "                    Y                      N                     103328.942333\n",
       "                                           Y                      92688.857174\n",
       "Y                   N                      N                     128924.273705\n",
       "                                           Y                     151695.180158\n",
       "                    Y                      N                      97794.205238\n",
       "                                           Y                      94124.537375\n",
       "Name: prevailing_wage, dtype: float64"
      ]
     },
     "execution_count": 275,
     "metadata": {},
     "output_type": "execute_result"
    }
   ],
   "source": [
    "data.groupby(['has_job_experience', 'requires_job_training', 'full_time_position'])['prevailing_wage'].mean()"
   ]
  },
  {
   "cell_type": "code",
   "execution_count": 278,
   "id": "3732a72c",
   "metadata": {},
   "outputs": [
    {
     "data": {
      "text/plain": [
       "<seaborn.axisgrid.FacetGrid at 0x1fff5f9b130>"
      ]
     },
     "execution_count": 278,
     "metadata": {},
     "output_type": "execute_result"
    },
    {
     "data": {
      "image/png": "[encoded data removed]",
      "text/plain": [
       "<Figure size 822.25x360 with 2 Axes>"
      ]
     },
     "metadata": {},
     "output_type": "display_data"
    }
   ],
   "source": [
    "sns.set_style('darkgrid')\n",
    "sns.factorplot(y='prevailing_wage',x = 'has_job_experience', hue = 'requires_job_training', col = 'full_time_position', data=data, kind = \"bar\")"
   ]
  },
  {
   "cell_type": "markdown",
   "id": "6f32e887",
   "metadata": {},
   "source": [
    "# Conclusion: The candidates who have job experience and full time position and requires no job training seems to perform better in terms of compensation"
   ]
  }
 ],
 "metadata": {
  "kernelspec": {
   "display_name": "Python 3 (ipykernel)",
   "language": "python",
   "name": "python3"
  },
  "language_info": {
   "codemirror_mode": {
    "name": "ipython",
    "version": 3
   },
   "file_extension": ".py",
   "mimetype": "text/x-python",
   "name": "python",
   "nbconvert_exporter": "python",
   "pygments_lexer": "ipython3",
   "version": "3.9.12"
  }
 },
 "nbformat": 4,
 "nbformat_minor": 5
}
